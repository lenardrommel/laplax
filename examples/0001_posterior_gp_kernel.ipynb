{
 "cells": [
  {
   "cell_type": "markdown",
   "metadata": {},
   "source": "# Posterior GP kernel on a regression task"
  },
  {
   "metadata": {
    "ExecuteTime": {
     "end_time": "2025-02-12T16:26:35.665049Z",
     "start_time": "2025-02-12T16:26:35.500496Z"
    }
   },
   "cell_type": "code",
   "source": "!source .venv/bin/activate",
   "outputs": [
    {
     "name": "stdout",
     "output_type": "stream",
     "text": [
      "zsh:source:1: no such file or directory: .venv/bin/activate\r\n"
     ]
    }
   ],
   "execution_count": 1
  },
  {
   "cell_type": "markdown",
   "metadata": {},
   "source": [
    "This tutorial follows the `laplace-torch` regression tutorial. It is a great start to visually understand the posterior Gaussian Process kernel induced by the weight-space Laplace approximation."
   ]
  },
  {
   "cell_type": "code",
   "metadata": {
    "ExecuteTime": {
     "end_time": "2025-02-12T16:30:13.604030Z",
     "start_time": "2025-02-12T16:30:11.153954Z"
    }
   },
   "source": [
    "import jax\n",
    "import jax.numpy as jnp\n",
    "import optax\n",
    "from flax import nnx\n",
    "from helper import get_sinusoid_example\n",
    "from plotting import plot_regression_with_uncertainty\n",
    "\n",
    "n_epochs = 1000\n",
    "key = jax.random.key(0)\n",
    "\n",
    "# Sample toy data example\n",
    "num_training_samples = 150\n",
    "batch_size = 20\n",
    "X_train, y_train, train_loader, X_test = get_sinusoid_example(\n",
    "    num_data=num_training_samples, sigma_noise=0.3, batch_size=batch_size\n",
    ")\n",
    "print('Done')"
   ],
   "outputs": [
    {
     "ename": "ModuleNotFoundError",
     "evalue": "No module named 'jax'",
     "output_type": "error",
     "traceback": [
      "\u001B[0;31m---------------------------------------------------------------------------\u001B[0m",
      "\u001B[0;31mModuleNotFoundError\u001B[0m                       Traceback (most recent call last)",
      "Cell \u001B[0;32mIn[2], line 2\u001B[0m\n\u001B[1;32m      1\u001B[0m \u001B[38;5;28;01mimport\u001B[39;00m \u001B[38;5;21;01mnumpy\u001B[39;00m\n\u001B[0;32m----> 2\u001B[0m \u001B[38;5;28;01mimport\u001B[39;00m \u001B[38;5;21;01mjax\u001B[39;00m\n\u001B[1;32m      3\u001B[0m \u001B[38;5;28;01mimport\u001B[39;00m \u001B[38;5;21;01mjax\u001B[39;00m\u001B[38;5;21;01m.\u001B[39;00m\u001B[38;5;21;01mnumpy\u001B[39;00m \u001B[38;5;28;01mas\u001B[39;00m \u001B[38;5;21;01mjnp\u001B[39;00m\n\u001B[1;32m      4\u001B[0m \u001B[38;5;28;01mimport\u001B[39;00m \u001B[38;5;21;01moptax\u001B[39;00m\n",
      "\u001B[0;31mModuleNotFoundError\u001B[0m: No module named 'jax'"
     ]
    }
   ],
   "execution_count": 2
  },
  {
   "cell_type": "markdown",
   "metadata": {},
   "source": [
    "## Training a MAP"
   ]
  },
  {
   "cell_type": "markdown",
   "metadata": {},
   "source": [
    "In this tutorial, we use `flax.nnx` for training a neural network. Other libraries (e.g., `equinox` or `flax.linen`) should also work out of the box if you can bring them in the form of a separate `model_fn` function (taking two arguments, `inputs` and `params`), and a `params` PyTree containing the learned parameters you want to do inference over."
   ]
  },
  {
   "cell_type": "code",
   "metadata": {
    "ExecuteTime": {
     "end_time": "2025-02-12T16:26:35.769319Z",
     "start_time": "2025-02-12T16:26:35.769267Z"
    }
   },
   "source": [
    "# Create and train MAP model\n",
    "class Model(nnx.Module):\n",
    "    def __init__(self, in_channels, hidden_channels, out_channels, rngs):\n",
    "        self.linear1 = nnx.Linear(in_channels, hidden_channels, rngs=rngs)\n",
    "        self.tanh = nnx.tanh\n",
    "        self.linear2 = nnx.Linear(hidden_channels, out_channels, rngs=rngs)\n",
    "\n",
    "    def __call__(self, x):\n",
    "        x = self.linear1(x)\n",
    "        x = self.tanh(x)\n",
    "        x = self.linear2(x)\n",
    "        return x\n",
    "\n",
    "\n",
    "# Initialize model\n",
    "model = Model(in_channels=1, hidden_channels=50, out_channels=1, rngs=nnx.Rngs(0))\n",
    "\n",
    "\n",
    "# Set loss function\n",
    "def criterion(x, y):\n",
    "    return jnp.mean((x - y) ** 2)\n",
    "\n",
    "\n",
    "# Create optimizer\n",
    "optimizer = nnx.Optimizer(model, optax.adamw(1e-2))  # Reference sharing\n",
    "\n",
    "\n",
    "@nnx.jit\n",
    "def train_step(model, optimizer, x, y):\n",
    "    def loss_fn(model):\n",
    "        y_pred = model(x)  # Call methods directly\n",
    "        return criterion(y, y_pred)\n",
    "\n",
    "    loss, grads = nnx.value_and_grad(loss_fn)(model)\n",
    "    optimizer.update(grads)  # Inplace updates\n",
    "\n",
    "    return loss"
   ],
   "outputs": [],
   "execution_count": null
  },
  {
   "cell_type": "code",
   "metadata": {},
   "source": [
    "for epoch in range(n_epochs):\n",
    "    for x_tr, y_tr in train_loader:\n",
    "        loss = train_step(model, optimizer, x_tr, y_tr)\n",
    "\n",
    "    if epoch % 100 == 0:\n",
    "        print(f\"[epoch {epoch}]: loss: {loss:.4f}\")\n",
    "\n",
    "print(f\"Final loss: {loss:.4f}\")"
   ],
   "outputs": [],
   "execution_count": null
  },
  {
   "cell_type": "markdown",
   "metadata": {},
   "source": [
    "## Setup Full Laplace"
   ]
  },
  {
   "cell_type": "code",
   "metadata": {},
   "source": [
    "from laplax.curv import create_ggn_mv\n",
    "from laplax.util.loader import input_target_split\n",
    "\n",
    "# Create GGN\n",
    "graph_def, params = nnx.split(model)\n",
    "\n",
    "\n",
    "def model_fn(input, params):\n",
    "    return nnx.call((graph_def, params))(input)[0]\n",
    "\n",
    "\n",
    "train_batch = input_target_split(next(iter(train_loader)))\n",
    "ggn_mv = create_ggn_mv(\n",
    "    model_fn,\n",
    "    params,\n",
    "    train_batch,\n",
    "    loss_fn=\"mse\",\n",
    "    num_curv_samples=150,\n",
    "    num_total_samples=75,\n",
    ")"
   ],
   "outputs": [],
   "execution_count": null
  },
  {
   "cell_type": "code",
   "metadata": {},
   "source": [
    "from laplax.curv.cov import create_posterior_fn\n",
    "\n",
    "# Create Posterior\n",
    "posterior_fn = create_posterior_fn(\n",
    "    \"full\",\n",
    "    mv=ggn_mv,\n",
    "    layout=params,\n",
    ")"
   ],
   "outputs": [],
   "execution_count": null
  },
  {
   "cell_type": "markdown",
   "metadata": {},
   "source": [
    "## Setup Posterior GP Kernel"
   ]
  },
  {
   "cell_type": "code",
   "metadata": {},
   "source": [
    "from laplax.eval.pushforward import set_posterior_gp_kernel\n",
    "\n",
    "prior_arguments = {\"prior_prec\": 0.1}\n",
    "\n",
    "gp_kernel, dist_state = set_posterior_gp_kernel(\n",
    "    model_fn=model_fn,\n",
    "    mean=params,\n",
    "    posterior_fn=posterior_fn,\n",
    "    prior_arguments=prior_arguments,\n",
    "    dense=True,  # If dense = False, then a kernel-vector product is returned.\n",
    "    output_layout=1,\n",
    ")\n",
    "\n",
    "X_grid = jnp.linspace(0.5, 8, 200).reshape(200, 1)\n",
    "Y_pred = model_fn(X_grid, params)[:, 0]\n",
    "\n",
    "Y_var = jax.vmap(lambda x: gp_kernel(x, x))(X_grid)[:, 0, 0]\n",
    "\n",
    "plot_regression_with_uncertainty(\n",
    "    train_input=train_batch[\"input\"],\n",
    "    train_target=train_batch[\"target\"],\n",
    "    X_grid=X_grid,\n",
    "    Y_pred=Y_pred,\n",
    "    Y_var=Y_var,\n",
    ")"
   ],
   "outputs": [],
   "execution_count": null
  },
  {
   "cell_type": "markdown",
   "metadata": {},
   "source": [
    "## Setup Low Rank Laplace"
   ]
  },
  {
   "cell_type": "code",
   "metadata": {},
   "source": [
    "from laplax.curv.cov import create_posterior_fn\n",
    "\n",
    "# Create Posterior\n",
    "posterior_fn = create_posterior_fn(\n",
    "    \"low_rank\",\n",
    "    mv=ggn_mv,\n",
    "    layout=params,\n",
    "    key=jax.random.key(20),\n",
    "    maxiter=50,\n",
    "    mv_jittable=True,\n",
    ")"
   ],
   "outputs": [],
   "execution_count": null
  },
  {
   "cell_type": "code",
   "metadata": {},
   "source": [
    "from laplax.eval.pushforward import set_posterior_gp_kernel\n",
    "\n",
    "prior_arguments = {\"prior_prec\": 0.01}\n",
    "\n",
    "gp_kernel, _ = set_posterior_gp_kernel(\n",
    "    model_fn=model_fn,\n",
    "    mean=params,\n",
    "    posterior_fn=posterior_fn,\n",
    "    prior_arguments=prior_arguments,\n",
    "    dense=True,  # If dense = False, then a kernel-vector product is returned.\n",
    "    output_layout=1,\n",
    ")\n",
    "\n",
    "X_grid = jnp.linspace(0.3, 8, 200).reshape(200, 1)\n",
    "Y_pred = model_fn(X_grid, params)[:, 0]\n",
    "\n",
    "Y_var = jax.vmap(lambda x: gp_kernel(x, x))(X_grid)[:, 0, 0]\n",
    "\n",
    "plot_regression_with_uncertainty(\n",
    "    train_input=train_batch[\"input\"],\n",
    "    train_target=train_batch[\"target\"],\n",
    "    X_grid=X_grid,\n",
    "    Y_pred=Y_pred,\n",
    "    Y_var=Y_var,\n",
    ")"
   ],
   "outputs": [],
   "execution_count": null
  },
  {
   "metadata": {},
   "cell_type": "code",
   "source": "",
   "outputs": [],
   "execution_count": null
  },
  {
   "metadata": {},
   "cell_type": "code",
   "source": "",
   "outputs": [],
   "execution_count": null
  }
 ],
 "metadata": {
  "kernelspec": {
   "display_name": "Python (base)",
   "language": "python",
   "name": "base"
  },
  "language_info": {
   "codemirror_mode": {
    "name": "ipython",
    "version": 3
   },
   "file_extension": ".py",
   "mimetype": "text/x-python",
   "name": "python",
   "nbconvert_exporter": "python",
   "pygments_lexer": "ipython3",
   "version": "3.11.11"
  }
 },
 "nbformat": 4,
 "nbformat_minor": 4
}
