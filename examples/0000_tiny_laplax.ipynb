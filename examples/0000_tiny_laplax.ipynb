{
 "cells": [
  {
   "cell_type": "markdown",
   "metadata": {},
   "source": [
    "# Tiny illustration of Laplace approximations"
   ]
  },
  {
   "cell_type": "markdown",
   "metadata": {},
   "source": [
    "This script is a super tiny illustration of a Laplace approximation - one where curvature approximation is tractable and can be easy visualised"
   ]
  },
  {
   "cell_type": "code",
   "execution_count": null,
   "metadata": {},
   "outputs": [],
   "source": [
    "import jax.numpy as jnp\n",
    "from jax.nn import relu\n",
    "from plotting import plot_figure_1\n",
    "\n",
    "from laplax import laplace\n",
    "\n",
    "# You need optimized parameters,\n",
    "best_params = {\"theta1\": jnp.array(1.6546547), \"theta2\": jnp.array(1.0420421)}\n",
    "\n",
    "\n",
    "def model_fn(input, params):\n",
    "    return relu(params[\"theta1\"] * input - 1) * params[\"theta2\"]\n",
    "\n",
    "\n",
    "data = {  # and training data.\n",
    "    \"input\": jnp.array([1.0, -1.0]).reshape(2, 1),\n",
    "    \"target\": jnp.array([1.0, -1.0]).reshape(2, 1),\n",
    "}\n",
    "\n",
    "# Then apply laplax\n",
    "posterior_fn, _ = laplace(\n",
    "    model_fn,\n",
    "    best_params,\n",
    "    data,\n",
    "    loss_fn=\"mse\",\n",
    "    curv_type=\"full\",\n",
    ")\n",
    "curv = posterior_fn({\"prior_prec\": 0.2}).state[\"scale\"]\n",
    "\n",
    "# to get figure 1.\n",
    "plot_figure_1(best_params, curv)"
   ]
  },
  {
   "cell_type": "code",
   "execution_count": null,
   "metadata": {},
   "outputs": [],
   "source": []
  }
 ],
 "metadata": {
  "kernelspec": {
   "display_name": ".venv",
   "language": "python",
   "name": "python3"
  },
  "language_info": {
   "codemirror_mode": {
    "name": "ipython",
    "version": 3
   },
   "file_extension": ".py",
   "mimetype": "text/x-python",
   "name": "python",
   "nbconvert_exporter": "python",
   "pygments_lexer": "ipython3",
   "version": "3.12.3"
  }
 },
 "nbformat": 4,
 "nbformat_minor": 2
}
